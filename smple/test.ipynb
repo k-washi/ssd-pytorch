{
 "nbformat": 4,
 "nbformat_minor": 2,
 "metadata": {
  "language_info": {
   "name": "python",
   "codemirror_mode": {
    "name": "ipython",
    "version": 3
   }
  },
  "orig_nbformat": 2,
  "file_extension": ".py",
  "mimetype": "text/x-python",
  "name": "python",
  "npconvert_exporter": "python",
  "pygments_lexer": "ipython3",
  "version": 3
 },
 "cells": [
  {
   "cell_type": "code",
   "execution_count": null,
   "metadata": {},
   "outputs": [
    {
     "ename": "Error",
     "evalue": "Jupyter cannot be started. Error attempting to locate jupyter: ",
     "output_type": "error",
     "traceback": [
      "Error: Jupyter cannot be started. Error attempting to locate jupyter:",
      "at A.startServer (/Users/washizakikai/.vscode/extensions/ms-python.python-2020.2.63072/out/client/extension.js:1:781100)",
      "at async A.ensureServerAndNotebookImpl (/Users/washizakikai/.vscode/extensions/ms-python.python-2020.2.63072/out/client/extension.js:1:780555)",
      "at async A.ensureServerAndNotebook (/Users/washizakikai/.vscode/extensions/ms-python.python-2020.2.63072/out/client/extension.js:1:780356)",
      "at async A.submitCode (/Users/washizakikai/.vscode/extensions/ms-python.python-2020.2.63072/out/client/extension.js:1:777738)",
      "at async A.reexecuteCell (/Users/washizakikai/.vscode/extensions/ms-python.python-2020.2.63072/out/client/extension.js:75:879007)"
     ]
    }
   ],
   "source": [
    "import numpy as np\n",
    "print(np.__version__)"
   ]
  },
  {
   "cell_type": "code",
   "execution_count": null,
   "metadata": {},
   "outputs": [
    {
     "ename": "Error",
     "evalue": "Jupyter cannot be started. Error attempting to locate jupyter: ",
     "output_type": "error",
     "traceback": [
      "Error: Jupyter cannot be started. Error attempting to locate jupyter:",
      "at A.startServer (/Users/washizakikai/.vscode/extensions/ms-python.python-2020.2.63072/out/client/extension.js:1:781100)",
      "at async A.ensureServerAndNotebookImpl (/Users/washizakikai/.vscode/extensions/ms-python.python-2020.2.63072/out/client/extension.js:1:780555)",
      "at async A.ensureServerAndNotebook (/Users/washizakikai/.vscode/extensions/ms-python.python-2020.2.63072/out/client/extension.js:1:780356)",
      "at async A.submitCode (/Users/washizakikai/.vscode/extensions/ms-python.python-2020.2.63072/out/client/extension.js:1:777738)",
      "at async A.reexecuteCell (/Users/washizakikai/.vscode/extensions/ms-python.python-2020.2.63072/out/client/extension.js:75:879007)"
     ]
    }
   ],
   "source": [
    "print(1)"
   ]
  },
  {
   "cell_type": "code",
   "execution_count": null,
   "metadata": {},
   "outputs": [],
   "source": []
  }
 ]
}